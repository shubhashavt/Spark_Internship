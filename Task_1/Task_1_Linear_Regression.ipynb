{
  "nbformat": 4,
  "nbformat_minor": 0,
  "metadata": {
    "colab": {
      "name": "Task_1_Linear Regression.ipynb",
      "provenance": [],
      "collapsed_sections": []
    },
    "kernelspec": {
      "name": "python3",
      "display_name": "Python 3"
    },
    "language_info": {
      "name": "python"
    }
  },
  "cells": [
    {
      "cell_type": "markdown",
      "metadata": {
        "id": "4eWhW3vaJIeB"
      },
      "source": [
        "# Name: SHUBHASH A V T"
      ]
    },
    {
      "cell_type": "markdown",
      "metadata": {
        "id": "FlbrIKvtKFtK"
      },
      "source": [
        "## Intern at GRIP @ The Spark Foundation\n",
        "\n",
        "# Task 1 - To predict the percentage of an student based on the no. of study hours."
      ]
    },
    {
      "cell_type": "markdown",
      "metadata": {
        "id": "wlkuzIlmJv0u"
      },
      "source": [
        ""
      ]
    },
    {
      "cell_type": "code",
      "metadata": {
        "id": "EZu4rYk6F81x"
      },
      "source": [
        "# Importing requried libraries.\n",
        "import numpy as np\n",
        "import pandas as pd\n",
        "import matplotlib.pyplot as plt\n",
        "import seaborn as sns\n",
        "import warnings\n",
        "warnings.filterwarnings('ignore')"
      ],
      "execution_count": null,
      "outputs": []
    },
    {
      "cell_type": "code",
      "metadata": {
        "id": "DHQGDRQ8HEhf"
      },
      "source": [
        "# Importing the dataset (CSV FILE)\n",
        "df = pd.read_csv('/content/drive/MyDrive/Colab Notebooks/student_scores - student_scores.csv')"
      ],
      "execution_count": null,
      "outputs": []
    },
    {
      "cell_type": "markdown",
      "metadata": {
        "id": "H6PjKw_QK_nz"
      },
      "source": [
        "## Data Understanding"
      ]
    },
    {
      "cell_type": "code",
      "metadata": {
        "colab": {
          "base_uri": "https://localhost:8080/"
        },
        "id": "6MiOALzmJA1N",
        "outputId": "88b9fb45-ccde-4bfc-cb81-2ce9008f5679"
      },
      "source": [
        "df.info()"
      ],
      "execution_count": null,
      "outputs": [
        {
          "output_type": "stream",
          "text": [
            "<class 'pandas.core.frame.DataFrame'>\n",
            "RangeIndex: 25 entries, 0 to 24\n",
            "Data columns (total 2 columns):\n",
            " #   Column  Non-Null Count  Dtype  \n",
            "---  ------  --------------  -----  \n",
            " 0   Hours   25 non-null     float64\n",
            " 1   Scores  25 non-null     int64  \n",
            "dtypes: float64(1), int64(1)\n",
            "memory usage: 528.0 bytes\n"
          ],
          "name": "stdout"
        }
      ]
    },
    {
      "cell_type": "code",
      "metadata": {
        "colab": {
          "base_uri": "https://localhost:8080/"
        },
        "id": "BS8crTPALQDJ",
        "outputId": "8139c9bb-42c2-40a9-ab65-d90d5df38b2d"
      },
      "source": [
        "df.shape"
      ],
      "execution_count": null,
      "outputs": [
        {
          "output_type": "execute_result",
          "data": {
            "text/plain": [
              "(25, 2)"
            ]
          },
          "metadata": {
            "tags": []
          },
          "execution_count": 60
        }
      ]
    },
    {
      "cell_type": "markdown",
      "metadata": {
        "id": "ir9KJQgyLJSq"
      },
      "source": [
        "Inferences:\n",
        "1. The data contains 25 rows and 2 columns (Hours, Scores)\n",
        "2. There no null values in the data.\n",
        "3. Both are numerical columns (integer and float)"
      ]
    },
    {
      "cell_type": "code",
      "metadata": {
        "colab": {
          "base_uri": "https://localhost:8080/"
        },
        "id": "tIak4zlONRnP",
        "outputId": "9879a23e-6d5e-4db8-9408-d1c9f93626e3"
      },
      "source": [
        "df.isnull().sum()"
      ],
      "execution_count": null,
      "outputs": [
        {
          "output_type": "execute_result",
          "data": {
            "text/plain": [
              "Hours     0\n",
              "Scores    0\n",
              "dtype: int64"
            ]
          },
          "metadata": {
            "tags": []
          },
          "execution_count": 61
        }
      ]
    },
    {
      "cell_type": "code",
      "metadata": {
        "colab": {
          "base_uri": "https://localhost:8080/",
          "height": 284
        },
        "id": "jPYSip1YLC7B",
        "outputId": "c072a383-0e06-4055-dfa1-f9d1a42cf5f6"
      },
      "source": [
        "df.describe()"
      ],
      "execution_count": null,
      "outputs": [
        {
          "output_type": "execute_result",
          "data": {
            "text/html": [
              "<div>\n",
              "<style scoped>\n",
              "    .dataframe tbody tr th:only-of-type {\n",
              "        vertical-align: middle;\n",
              "    }\n",
              "\n",
              "    .dataframe tbody tr th {\n",
              "        vertical-align: top;\n",
              "    }\n",
              "\n",
              "    .dataframe thead th {\n",
              "        text-align: right;\n",
              "    }\n",
              "</style>\n",
              "<table border=\"1\" class=\"dataframe\">\n",
              "  <thead>\n",
              "    <tr style=\"text-align: right;\">\n",
              "      <th></th>\n",
              "      <th>Hours</th>\n",
              "      <th>Scores</th>\n",
              "    </tr>\n",
              "  </thead>\n",
              "  <tbody>\n",
              "    <tr>\n",
              "      <th>count</th>\n",
              "      <td>25.000000</td>\n",
              "      <td>25.000000</td>\n",
              "    </tr>\n",
              "    <tr>\n",
              "      <th>mean</th>\n",
              "      <td>5.012000</td>\n",
              "      <td>51.480000</td>\n",
              "    </tr>\n",
              "    <tr>\n",
              "      <th>std</th>\n",
              "      <td>2.525094</td>\n",
              "      <td>25.286887</td>\n",
              "    </tr>\n",
              "    <tr>\n",
              "      <th>min</th>\n",
              "      <td>1.100000</td>\n",
              "      <td>17.000000</td>\n",
              "    </tr>\n",
              "    <tr>\n",
              "      <th>25%</th>\n",
              "      <td>2.700000</td>\n",
              "      <td>30.000000</td>\n",
              "    </tr>\n",
              "    <tr>\n",
              "      <th>50%</th>\n",
              "      <td>4.800000</td>\n",
              "      <td>47.000000</td>\n",
              "    </tr>\n",
              "    <tr>\n",
              "      <th>75%</th>\n",
              "      <td>7.400000</td>\n",
              "      <td>75.000000</td>\n",
              "    </tr>\n",
              "    <tr>\n",
              "      <th>max</th>\n",
              "      <td>9.200000</td>\n",
              "      <td>95.000000</td>\n",
              "    </tr>\n",
              "  </tbody>\n",
              "</table>\n",
              "</div>"
            ],
            "text/plain": [
              "           Hours     Scores\n",
              "count  25.000000  25.000000\n",
              "mean    5.012000  51.480000\n",
              "std     2.525094  25.286887\n",
              "min     1.100000  17.000000\n",
              "25%     2.700000  30.000000\n",
              "50%     4.800000  47.000000\n",
              "75%     7.400000  75.000000\n",
              "max     9.200000  95.000000"
            ]
          },
          "metadata": {
            "tags": []
          },
          "execution_count": 62
        }
      ]
    },
    {
      "cell_type": "markdown",
      "metadata": {
        "id": "_ws89KOtMxx4"
      },
      "source": [
        "Inferences:\n",
        "The summary shows the quantail, max, min, mean, standard deveation of the data, and using the above we can asses that there is no outlier in the data, everything seems significant so far."
      ]
    },
    {
      "cell_type": "code",
      "metadata": {
        "colab": {
          "base_uri": "https://localhost:8080/",
          "height": 195
        },
        "id": "vFVo66MUNPQN",
        "outputId": "f0b7a71b-d099-431b-f20f-f818bc1a8440"
      },
      "source": [
        "# Head of data (first 5 values of data)\n",
        "df.head()"
      ],
      "execution_count": null,
      "outputs": [
        {
          "output_type": "execute_result",
          "data": {
            "text/html": [
              "<div>\n",
              "<style scoped>\n",
              "    .dataframe tbody tr th:only-of-type {\n",
              "        vertical-align: middle;\n",
              "    }\n",
              "\n",
              "    .dataframe tbody tr th {\n",
              "        vertical-align: top;\n",
              "    }\n",
              "\n",
              "    .dataframe thead th {\n",
              "        text-align: right;\n",
              "    }\n",
              "</style>\n",
              "<table border=\"1\" class=\"dataframe\">\n",
              "  <thead>\n",
              "    <tr style=\"text-align: right;\">\n",
              "      <th></th>\n",
              "      <th>Hours</th>\n",
              "      <th>Scores</th>\n",
              "    </tr>\n",
              "  </thead>\n",
              "  <tbody>\n",
              "    <tr>\n",
              "      <th>0</th>\n",
              "      <td>2.5</td>\n",
              "      <td>21</td>\n",
              "    </tr>\n",
              "    <tr>\n",
              "      <th>1</th>\n",
              "      <td>5.1</td>\n",
              "      <td>47</td>\n",
              "    </tr>\n",
              "    <tr>\n",
              "      <th>2</th>\n",
              "      <td>3.2</td>\n",
              "      <td>27</td>\n",
              "    </tr>\n",
              "    <tr>\n",
              "      <th>3</th>\n",
              "      <td>8.5</td>\n",
              "      <td>75</td>\n",
              "    </tr>\n",
              "    <tr>\n",
              "      <th>4</th>\n",
              "      <td>3.5</td>\n",
              "      <td>30</td>\n",
              "    </tr>\n",
              "  </tbody>\n",
              "</table>\n",
              "</div>"
            ],
            "text/plain": [
              "   Hours  Scores\n",
              "0    2.5      21\n",
              "1    5.1      47\n",
              "2    3.2      27\n",
              "3    8.5      75\n",
              "4    3.5      30"
            ]
          },
          "metadata": {
            "tags": []
          },
          "execution_count": 63
        }
      ]
    },
    {
      "cell_type": "markdown",
      "metadata": {
        "id": "X1zja7Q3O3Fm"
      },
      "source": [
        "Checking for outliers"
      ]
    },
    {
      "cell_type": "code",
      "metadata": {
        "colab": {
          "base_uri": "https://localhost:8080/",
          "height": 237
        },
        "id": "kdI_VSRpOzI_",
        "outputId": "54b6602b-2cf4-4177-9001-414f91107314"
      },
      "source": [
        "plt.figure(figsize=(15,20), dpi=80)\n",
        "for i,col in enumerate(df.columns,1):\n",
        "  plt.subplot(13,1,i)\n",
        "  sns.boxplot(df[col])\n",
        "  plt.ylabel(col)\n",
        "plt.show()"
      ],
      "execution_count": null,
      "outputs": [
        {
          "output_type": "display_data",
          "data": {
            "image/png": "[encoded data removed]",
            "text/plain": [
              "<Figure size 1200x1600 with 2 Axes>"
            ]
          },
          "metadata": {
            "tags": [],
            "needs_background": "light"
          }
        }
      ]
    },
    {
      "cell_type": "markdown",
      "metadata": {
        "id": "SbOqB6HWMw3K"
      },
      "source": [
        "As we can observe the box plot that there is no outliers present in the data."
      ]
    },
    {
      "cell_type": "markdown",
      "metadata": {
        "id": "IyYOkH9WPX-F"
      },
      "source": [
        "## DATA VISUALIZATION"
      ]
    },
    {
      "cell_type": "markdown",
      "metadata": {
        "id": "Lb5HSWyqPpLi"
      },
      "source": [
        "Visualization is a strong tool to understand the data, and its influence on our target variable (Score),Both are numerical columns, so we can use line graph, scatter plot, LM Plot, Reg Plot, etc,."
      ]
    },
    {
      "cell_type": "code",
      "metadata": {
        "colab": {
          "base_uri": "https://localhost:8080/",
          "height": 312
        },
        "id": "L_KIVi6dUwwR",
        "outputId": "5ae9c469-4007-4ebd-ad0e-5dd70c35f546"
      },
      "source": [
        "plt.figure(figsize=(15,5), dpi=80)\n",
        "df.plot(kind='line')\n",
        "plt.xlabel('Hours')\n",
        "plt.ylabel('Scores')\n",
        "plt.title(\"Hours Vs Scores\")\n",
        "plt.grid()\n",
        "plt.show()"
      ],
      "execution_count": null,
      "outputs": [
        {
          "output_type": "display_data",
          "data": {
            "text/plain": [
              "<Figure size 1200x400 with 0 Axes>"
            ]
          },
          "metadata": {
            "tags": []
          }
        },
        {
          "output_type": "display_data",
          "data": {
            "image/png": "[encoded data removed]",
            "text/plain": [
              "<Figure size 432x288 with 1 Axes>"
            ]
          },
          "metadata": {
            "tags": [],
            "needs_background": "light"
          }
        }
      ]
    },
    {
      "cell_type": "code",
      "metadata": {
        "colab": {
          "base_uri": "https://localhost:8080/",
          "height": 383
        },
        "id": "Pw8LJAdYOxhe",
        "outputId": "f5833ae9-9f10-4a6b-fd93-250a6c356d0d"
      },
      "source": [
        "plt.figure(figsize=(8,5), dpi=80)\n",
        "sns.scatterplot(df['Hours'], df['Scores'])\n",
        "plt.title(\"Hours Vs Scores\")\n",
        "plt.grid()\n",
        "plt.show()"
      ],
      "execution_count": null,
      "outputs": [
        {
          "output_type": "display_data",
          "data": {
            "image/png": "[encoded data removed]",
            "text/plain": [
              "<Figure size 640x400 with 1 Axes>"
            ]
          },
          "metadata": {
            "tags": [],
            "needs_background": "light"
          }
        }
      ]
    },
    {
      "cell_type": "markdown",
      "metadata": {
        "id": "W5uPlE-bUq1E"
      },
      "source": [
        "Inferences:\n",
        "The scatter plot shows that\n",
        "1. When the no. of hours increases the score increases, they both are directly propostional.\n",
        "2. we can plot a heatmap of corelation between the variables to know about the relations between them."
      ]
    },
    {
      "cell_type": "code",
      "metadata": {
        "colab": {
          "base_uri": "https://localhost:8080/",
          "height": 296
        },
        "id": "1S4QlayTTB1d",
        "outputId": "56f61e86-53f4-4e0b-a866-8b4af914d241"
      },
      "source": [
        "plt.figure(figsize=(4,4), dpi=80)\n",
        "sns.heatmap(df.corr(), annot=True)\n",
        "plt.show()"
      ],
      "execution_count": null,
      "outputs": [
        {
          "output_type": "display_data",
          "data": {
            "image/png": "[encoded data removed]",
            "text/plain": [
              "<Figure size 320x320 with 2 Axes>"
            ]
          },
          "metadata": {
            "tags": [],
            "needs_background": "light"
          }
        }
      ]
    },
    {
      "cell_type": "markdown",
      "metadata": {
        "id": "QH7InfAxXUd4"
      },
      "source": [
        "Inferences:\n",
        "Scores and Hours have Highly positively corelated with each other, it implies when the No. of hours study increases the exam score increases. "
      ]
    },
    {
      "cell_type": "markdown",
      "metadata": {
        "id": "LjqWaZLRYQSk"
      },
      "source": [
        "## Linear Regression"
      ]
    },
    {
      "cell_type": "markdown",
      "metadata": {
        "id": "CunHBCg5wyal"
      },
      "source": [
        "Prediction And Evaluation of model"
      ]
    },
    {
      "cell_type": "code",
      "metadata": {
        "id": "AVgIMd2AXJvr"
      },
      "source": [
        "X = df.iloc[:, :-1].values  \n",
        "y = df.iloc[:, 1].values\n",
        "\n",
        "from sklearn.model_selection import train_test_split\n",
        "X_train, X_test, y_train, y_test = train_test_split(X, y, test_size=0.2, random_state=42)"
      ],
      "execution_count": null,
      "outputs": []
    },
    {
      "cell_type": "code",
      "metadata": {
        "colab": {
          "base_uri": "https://localhost:8080/"
        },
        "id": "XOnjbzM6ZW88",
        "outputId": "1018accb-13e8-46f7-e10f-788daca4faff"
      },
      "source": [
        "from sklearn.linear_model import LinearRegression\n",
        "from sklearn.metrics import r2_score, mean_squared_error\n",
        "lr = LinearRegression()\n",
        "\n",
        "lr.fit(X_train, y_train)\n",
        "y_train_pred = lr.predict(X_train)\n",
        "\n",
        "print('r2-Train:', r2_score(y_train, y_train_pred))\n",
        "print('rmsc-Train:', np.sqrt(mean_squared_error(y_train,y_train_pred)))\n",
        "      \n",
        "y_test_pred = lr.predict(X_test)\n",
        "      \n",
        "print('\\nr2-Test:', r2_score(y_test, y_test_pred))\n",
        "print('rmsc-Test:', np.sqrt(mean_squared_error(y_test,y_test_pred)))"
      ],
      "execution_count": null,
      "outputs": [
        {
          "output_type": "stream",
          "text": [
            "r2-Train: 0.9491209376364416\n",
            "rmsc-Train: 5.608461065868858\n",
            "\n",
            "r2-Test: 0.9678055545167994\n",
            "rmsc-Test: 4.352380006653288\n"
          ],
          "name": "stdout"
        }
      ]
    },
    {
      "cell_type": "markdown",
      "metadata": {
        "id": "zUhWxI-Otq3f"
      },
      "source": [
        "Inferences:\n",
        "1. R-Squared value and RMSE are the matrics used for evaualuating the model, we can see both the test and train score \n",
        "2. R2 value for the train is 0.94 indiactes that the variance captured by the Regressor is about 94% and in test is 96%, so our model is predicting well.\n",
        "3. The Root Mean Squard error is the matrics used to evaulaute the error, as the test error is less compared to train. "
      ]
    },
    {
      "cell_type": "code",
      "metadata": {
        "colab": {
          "base_uri": "https://localhost:8080/",
          "height": 77
        },
        "id": "-PJjpgxNcsG9",
        "outputId": "d9094949-fa1c-4586-9ac1-404ded031fce"
      },
      "source": [
        "pd.DataFrame(lr.coef_,  columns=['coefficients'])"
      ],
      "execution_count": null,
      "outputs": [
        {
          "output_type": "execute_result",
          "data": {
            "text/html": [
              "<div>\n",
              "<style scoped>\n",
              "    .dataframe tbody tr th:only-of-type {\n",
              "        vertical-align: middle;\n",
              "    }\n",
              "\n",
              "    .dataframe tbody tr th {\n",
              "        vertical-align: top;\n",
              "    }\n",
              "\n",
              "    .dataframe thead th {\n",
              "        text-align: right;\n",
              "    }\n",
              "</style>\n",
              "<table border=\"1\" class=\"dataframe\">\n",
              "  <thead>\n",
              "    <tr style=\"text-align: right;\">\n",
              "      <th></th>\n",
              "      <th>coefficients</th>\n",
              "    </tr>\n",
              "  </thead>\n",
              "  <tbody>\n",
              "    <tr>\n",
              "      <th>0</th>\n",
              "      <td>9.682078</td>\n",
              "    </tr>\n",
              "  </tbody>\n",
              "</table>\n",
              "</div>"
            ],
            "text/plain": [
              "   coefficients\n",
              "0      9.682078"
            ]
          },
          "metadata": {
            "tags": []
          },
          "execution_count": 71
        }
      ]
    },
    {
      "cell_type": "markdown",
      "metadata": {
        "id": "GbdiOl7ntWc2"
      },
      "source": [
        "Inferences:\n",
        "The coefficient value 9.6 indicates if 1 hour is spend for studying there is a increase of 9.6 score."
      ]
    },
    {
      "cell_type": "markdown",
      "metadata": {
        "id": "ItWbP05ew5Xv"
      },
      "source": [
        "Actual vs Predicted"
      ]
    },
    {
      "cell_type": "code",
      "metadata": {
        "colab": {
          "base_uri": "https://localhost:8080/",
          "height": 195
        },
        "id": "vEEeXpzew4We",
        "outputId": "d3a766f3-63df-4c95-83b3-06f347407563"
      },
      "source": [
        "y_pred = lr.predict(X)\n",
        "actual_Predict = pd.DataFrame({'Actual': y, 'Predicted': y_pred})  \n",
        "actual_Predict.head()"
      ],
      "execution_count": null,
      "outputs": [
        {
          "output_type": "execute_result",
          "data": {
            "text/html": [
              "<div>\n",
              "<style scoped>\n",
              "    .dataframe tbody tr th:only-of-type {\n",
              "        vertical-align: middle;\n",
              "    }\n",
              "\n",
              "    .dataframe tbody tr th {\n",
              "        vertical-align: top;\n",
              "    }\n",
              "\n",
              "    .dataframe thead th {\n",
              "        text-align: right;\n",
              "    }\n",
              "</style>\n",
              "<table border=\"1\" class=\"dataframe\">\n",
              "  <thead>\n",
              "    <tr style=\"text-align: right;\">\n",
              "      <th></th>\n",
              "      <th>Actual</th>\n",
              "      <th>Predicted</th>\n",
              "    </tr>\n",
              "  </thead>\n",
              "  <tbody>\n",
              "    <tr>\n",
              "      <th>0</th>\n",
              "      <td>21</td>\n",
              "      <td>27.032088</td>\n",
              "    </tr>\n",
              "    <tr>\n",
              "      <th>1</th>\n",
              "      <td>47</td>\n",
              "      <td>52.205491</td>\n",
              "    </tr>\n",
              "    <tr>\n",
              "      <th>2</th>\n",
              "      <td>27</td>\n",
              "      <td>33.809542</td>\n",
              "    </tr>\n",
              "    <tr>\n",
              "      <th>3</th>\n",
              "      <td>75</td>\n",
              "      <td>85.124557</td>\n",
              "    </tr>\n",
              "    <tr>\n",
              "      <th>4</th>\n",
              "      <td>30</td>\n",
              "      <td>36.714166</td>\n",
              "    </tr>\n",
              "  </tbody>\n",
              "</table>\n",
              "</div>"
            ],
            "text/plain": [
              "   Actual  Predicted\n",
              "0      21  27.032088\n",
              "1      47  52.205491\n",
              "2      27  33.809542\n",
              "3      75  85.124557\n",
              "4      30  36.714166"
            ]
          },
          "metadata": {
            "tags": []
          },
          "execution_count": 75
        }
      ]
    },
    {
      "cell_type": "markdown",
      "metadata": {
        "id": "sdHEfF4Vy1WX"
      },
      "source": [
        "Predicted score if a student studies for 9.25 hrs/ day"
      ]
    },
    {
      "cell_type": "code",
      "metadata": {
        "colab": {
          "base_uri": "https://localhost:8080/"
        },
        "id": "rZ2QWzaVdGsw",
        "outputId": "81a05fb1-1f28-4754-e1b2-c110d5c1c37f"
      },
      "source": [
        "predicted_score = lr.predict([[9.25]])\n",
        "print('Predicted score for 9.25 hour study time per day is',round(predicted_score[0],2))"
      ],
      "execution_count": null,
      "outputs": [
        {
          "output_type": "stream",
          "text": [
            "Predicted score for 9.25 hour study time per day is 92.39\n"
          ],
          "name": "stdout"
        }
      ]
    },
    {
      "cell_type": "code",
      "metadata": {
        "id": "JUaqC96Zx_vk"
      },
      "source": [
        ""
      ],
      "execution_count": null,
      "outputs": []
    }
  ]
}